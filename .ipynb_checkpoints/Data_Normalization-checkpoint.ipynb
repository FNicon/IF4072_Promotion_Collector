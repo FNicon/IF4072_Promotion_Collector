{
 "cells": [
  {
   "cell_type": "markdown",
   "metadata": {},
   "source": [
    "### Read all csv"
   ]
  },
  {
   "cell_type": "code",
   "execution_count": 208,
   "metadata": {
    "scrolled": true
   },
   "outputs": [
    {
     "name": "stdout",
     "output_type": "stream",
     "text": [
      "5\n",
      "    0                1\n",
      "0             SOHEEDCH\n",
      "1  ˆˆ  CrownShopaholic\n",
      "2  →→    Funbrick_KRWC\n",
      "3   ≠    ceksbeibeceks\n",
      "4  еа   dedisuparman87\n"
     ]
    }
   ],
   "source": [
    "import glob\n",
    "import pandas as pd\n",
    "import re\n",
    "import numpy as np\n",
    "\n",
    "def filter_emoji_in_array(datas):\n",
    "    for i in range(len(datas)):\n",
    "        datas[i][0] = filter_emoji(datas[i][0])\n",
    "\n",
    "def filter_emoji(text):\n",
    "    emoji_pattern = re.compile(\"[\"\n",
    "        u\"\\U00002700-\\U000027BF\"  # dingbats\n",
    "        u\"\\U00002460-\\U0001F2FF\"  # enclosed characters\n",
    "        u\"\\U0001F600-\\U0001F64F\"  # emoticons\n",
    "        u\"\\U0001F910-\\U0001F9FF\"  # emoticons\n",
    "        u\"\\U0001F300-\\U0001F5FF\"  # symbols & pictographs\n",
    "        u\"\\U0001F680-\\U0001F6FF\"  # transport & map symbols\n",
    "        u\"\\U00000080-\\U000000FF\"  # uncategorized 1 (latin 1 supplement)\n",
    "        u\"\\U00002000-\\U0000206F\"  # uncategorized 2 (general punctuation)\n",
    "        #u\"\\U00000000-\\U0000007F\"  # uncategorized 3 (basic latin)\n",
    "        u\"\\U000020D0-\\U000020FF\"  # uncategorized 4 (Combining Diacritical Marks for Symbols )\n",
    "        u\"\\U00002100-\\U0000214F\"  # uncategorized 5 (Letterlike Symbols )\n",
    "        u\"\\U00002300-\\U000023FF\"  # uncategorized 6 (Misc Technical )\n",
    "        u\"\\U000025A0-\\U000025FF\"  # uncategorized 7 (Geometric Shapes )\n",
    "        u\"\\U00002600-\\U000026FF\"  # uncategorized 8 (Misc Symbols )\n",
    "        u\"\\U00002900-\\U0000297F\"  # uncategorized 9 (Supp Arrows B )\n",
    "        u\"\\U00002B00-\\U00002BFF\"  # uncategorized 10 (Misc Symbol Arrows )\n",
    "        u\"\\U00003000-\\U0000303F\"  # uncategorized 11 (CJK Sumbols and Punc )\n",
    "        u\"\\U00003200-\\U000032FF\"  # uncategorized 12 (Enclosed CJK Letters and Months)\n",
    "        u\"\\U0001F000-\\U0001F02F\"  # uncategorized 13 (Mahjong Tiles)\n",
    "        u\"\\U0001F0A0-\\U0001F0FF\"  # uncategorized 14 (Playing Cards)\n",
    "        u\"\\U0001F300-\\U0001F5FF\"  # uncategorized 15 (Misc Symbols and Pict)\n",
    "        u\"\\U0001F1E0-\\U0001F1FF\"  # flags (iOS)\n",
    "                           \"]+\", flags=re.UNICODE)\n",
    "    return(emoji_pattern.sub(r'', text))\n",
    "\n",
    "def is_contain(check_data, datas):\n",
    "    i = 0\n",
    "    while ((i < len(datas)) and (check_data[0] != datas[i][0])) :\n",
    "        i = i + 1\n",
    "    return (i < len(datas))\n",
    "\n",
    "def filter_same_data(check_datas, datas):\n",
    "    new_array = datas\n",
    "    for i in range(len(check_datas)) :\n",
    "        if (not(is_contain(check_datas[i], new_array))):\n",
    "            if (len(new_array) == 0):\n",
    "                new_array = [check_datas[i]]\n",
    "            else :\n",
    "                new_array = np.append(new_array,[check_datas[i]], axis = 0)\n",
    "    new_array = pd.DataFrame(data = new_array).values\n",
    "    return (new_array)\n",
    "\n",
    "def read_all_csv():\n",
    "    result = []\n",
    "    attribute_names = [\"\",\"tweet\",\"user\"]\n",
    "    csvs_path = glob.glob('raw_data/*.csv')\n",
    "    for path in csvs_path :\n",
    "        data_input = pd.read_csv(path, header=0, usecols=range(1,3))\n",
    "        data_frame_input = pd.DataFrame(data = data_input).values\n",
    "        filter_emoji_in_array(data_frame_input)\n",
    "        result = filter_same_data(data_frame_input, result)\n",
    "    data_frame_result = pd.DataFrame(data = result)\n",
    "    return (data_frame_result.values)\n",
    "\n",
    "raw_data = read_all_csv()\n",
    "raw_data = pd.DataFrame(data=raw_data)\n",
    "\n",
    "print(len(raw_data))\n",
    "print(raw_data)"
   ]
  },
  {
   "cell_type": "code",
   "execution_count": 205,
   "metadata": {
    "collapsed": true
   },
   "outputs": [],
   "source": [
    "def save_as_csv(dataframe) :\n",
    "    dataframe.to_csv(\"integrated_data/integrated.csv\", encoding='utf-8')\n",
    "\n",
    "save_as_csv(raw_data)"
   ]
  },
  {
   "cell_type": "code",
   "execution_count": null,
   "metadata": {
    "collapsed": true
   },
   "outputs": [],
   "source": []
  }
 ],
 "metadata": {
  "kernelspec": {
   "display_name": "Python 3",
   "language": "python",
   "name": "python3"
  },
  "language_info": {
   "codemirror_mode": {
    "name": "ipython",
    "version": 3
   },
   "file_extension": ".py",
   "mimetype": "text/x-python",
   "name": "python",
   "nbconvert_exporter": "python",
   "pygments_lexer": "ipython3",
   "version": "3.6.3"
  }
 },
 "nbformat": 4,
 "nbformat_minor": 2
}
