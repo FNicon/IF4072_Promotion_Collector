{
 "cells": [
  {
   "cell_type": "code",
   "execution_count": 1,
   "metadata": {
    "collapsed": true
   },
   "outputs": [],
   "source": [
    "import numpy as np\n",
    "import pandas as pd\n",
    "import string\n",
    "from sklearn.feature_extraction.text import CountVectorizer\n",
    "from sklearn.model_selection import train_test_split"
   ]
  },
  {
   "cell_type": "code",
   "execution_count": 2,
   "metadata": {},
   "outputs": [
    {
     "data": {
      "text/html": [
       "<div>\n",
       "<style scoped>\n",
       "    .dataframe tbody tr th:only-of-type {\n",
       "        vertical-align: middle;\n",
       "    }\n",
       "\n",
       "    .dataframe tbody tr th {\n",
       "        vertical-align: top;\n",
       "    }\n",
       "\n",
       "    .dataframe thead th {\n",
       "        text-align: right;\n",
       "    }\n",
       "</style>\n",
       "<table border=\"1\" class=\"dataframe\">\n",
       "  <thead>\n",
       "    <tr style=\"text-align: right;\">\n",
       "      <th></th>\n",
       "      <th>Unnamed: 0</th>\n",
       "      <th>0</th>\n",
       "      <th>1</th>\n",
       "      <th>2</th>\n",
       "    </tr>\n",
       "  </thead>\n",
       "  <tbody>\n",
       "    <tr>\n",
       "      <th>0</th>\n",
       "      <td>0</td>\n",
       "      <td>ya anjir cpt bgt ya abis barang manusia diskon:(</td>\n",
       "      <td>SOHEEDCH</td>\n",
       "      <td>0</td>\n",
       "    </tr>\n",
       "    <tr>\n",
       "      <th>1</th>\n",
       "      <td>1</td>\n",
       "      <td>lazada 11.11.2019 diskon terbesar 24 jam https...</td>\n",
       "      <td>Vallno_07</td>\n",
       "      <td>1</td>\n",
       "    </tr>\n",
       "    <tr>\n",
       "      <th>2</th>\n",
       "      <td>2</td>\n",
       "      <td>selama kalo liat promo diskon 70% + 30% dalem ...</td>\n",
       "      <td>bayu_joo</td>\n",
       "      <td>0</td>\n",
       "    </tr>\n",
       "    <tr>\n",
       "      <th>3</th>\n",
       "      <td>3</td>\n",
       "      <td>apa bedanya matahari sama bulan?  matahari ada...</td>\n",
       "      <td>Hanifati_f</td>\n",
       "      <td>0</td>\n",
       "    </tr>\n",
       "    <tr>\n",
       "      <th>4</th>\n",
       "      <td>4</td>\n",
       "      <td>@garudacares bagaimana cara tukar mileage disk...</td>\n",
       "      <td>Nug_QA</td>\n",
       "      <td>1</td>\n",
       "    </tr>\n",
       "    <tr>\n",
       "      <th>5</th>\n",
       "      <td>5</td>\n",
       "      <td>@gencamon nahiya benerrr hahahaha kalo makan c...</td>\n",
       "      <td>primetam</td>\n",
       "      <td>0</td>\n",
       "    </tr>\n",
       "    <tr>\n",
       "      <th>6</th>\n",
       "      <td>6</td>\n",
       "      <td>fak gmarket kenapa diskon nya sekarang sih</td>\n",
       "      <td>singularyv</td>\n",
       "      <td>0</td>\n",
       "    </tr>\n",
       "    <tr>\n",
       "      <th>7</th>\n",
       "      <td>7</td>\n",
       "      <td>sejarah asia tenggara karya m.c. ricklefs rp 3...</td>\n",
       "      <td>KomunitasBambu</td>\n",
       "      <td>1</td>\n",
       "    </tr>\n",
       "    <tr>\n",
       "      <th>8</th>\n",
       "      <td>8</td>\n",
       "      <td>@amingcoffee transmart kuburaya diskon, kapan ...</td>\n",
       "      <td>kalbarinfo_</td>\n",
       "      <td>0</td>\n",
       "    </tr>\n",
       "    <tr>\n",
       "      <th>9</th>\n",
       "      <td>9</td>\n",
       "      <td>tah diskon 50% cenah..  yuk diserbu..   https:...</td>\n",
       "      <td>AmaAbiyyunShoh</td>\n",
       "      <td>1</td>\n",
       "    </tr>\n",
       "    <tr>\n",
       "      <th>10</th>\n",
       "      <td>10</td>\n",
       "      <td>@wongalas901 @prabowo @aniesbaswedan rika wis ...</td>\n",
       "      <td>Dianhandoko6</td>\n",
       "      <td>0</td>\n",
       "    </tr>\n",
       "    <tr>\n",
       "      <th>11</th>\n",
       "      <td>11</td>\n",
       "      <td>sebenarnya bahagia itu sederhana... - beli ini...</td>\n",
       "      <td>anggieppu</td>\n",
       "      <td>0</td>\n",
       "    </tr>\n",
       "    <tr>\n",
       "      <th>12</th>\n",
       "      <td>12</td>\n",
       "      <td>yuhuu..  siapa lagi yang mau order deodorantny...</td>\n",
       "      <td>indri_indriyuni</td>\n",
       "      <td>0</td>\n",
       "    </tr>\n",
       "    <tr>\n",
       "      <th>13</th>\n",
       "      <td>13</td>\n",
       "      <td>@febjae iya teh ambil aja yang kuning mah. dis...</td>\n",
       "      <td>favechan</td>\n",
       "      <td>0</td>\n",
       "    </tr>\n",
       "    <tr>\n",
       "      <th>14</th>\n",
       "      <td>14</td>\n",
       "      <td>pesta harga akhir tahun di giias medan auto sh...</td>\n",
       "      <td>IcanIndopro</td>\n",
       "      <td>0</td>\n",
       "    </tr>\n",
       "    <tr>\n",
       "      <th>15</th>\n",
       "      <td>15</td>\n",
       "      <td>yaampun kak aulll. eh tapi itu make over lagi ...</td>\n",
       "      <td>tyoungjaems</td>\n",
       "      <td>1</td>\n",
       "    </tr>\n",
       "    <tr>\n",
       "      <th>16</th>\n",
       "      <td>16</td>\n",
       "      <td>@rahagyu29 @bayu_joo jadi misal harganya 100rb...</td>\n",
       "      <td>gardagagar</td>\n",
       "      <td>0</td>\n",
       "    </tr>\n",
       "    <tr>\n",
       "      <th>17</th>\n",
       "      <td>17</td>\n",
       "      <td>pesta harga akhir tahun di giias medan auto sh...</td>\n",
       "      <td>IcanIndopro</td>\n",
       "      <td>1</td>\n",
       "    </tr>\n",
       "    <tr>\n",
       "      <th>18</th>\n",
       "      <td>18</td>\n",
       "      <td>hanya hari ini! shopee promo 11.11 big sale! 1...</td>\n",
       "      <td>katalogpromosi</td>\n",
       "      <td>1</td>\n",
       "    </tr>\n",
       "    <tr>\n",
       "      <th>19</th>\n",
       "      <td>19</td>\n",
       "      <td>@tys1004 mau beli season greetings tia, per ha...</td>\n",
       "      <td>ChocoBee_</td>\n",
       "      <td>0</td>\n",
       "    </tr>\n",
       "    <tr>\n",
       "      <th>20</th>\n",
       "      <td>20</td>\n",
       "      <td>cgv cinemas kini hadir di icon mall #gresik . ...</td>\n",
       "      <td>GoersApp</td>\n",
       "      <td>1</td>\n",
       "    </tr>\n",
       "    <tr>\n",
       "      <th>21</th>\n",
       "      <td>21</td>\n",
       "      <td>@princekuaniin fansite kyknya soalnya itu pun ...</td>\n",
       "      <td>aracelli_0129</td>\n",
       "      <td>0</td>\n",
       "    </tr>\n",
       "    <tr>\n",
       "      <th>22</th>\n",
       "      <td>22</td>\n",
       "      <td>beli tiket kereta api di @tokopedia diskon 20%...</td>\n",
       "      <td>promo_BRI</td>\n",
       "      <td>1</td>\n",
       "    </tr>\n",
       "    <tr>\n",
       "      <th>23</th>\n",
       "      <td>23</td>\n",
       "      <td>buat kalian yang bisa jajan di alfamart - yuk ...</td>\n",
       "      <td>katalogpromosi</td>\n",
       "      <td>1</td>\n",
       "    </tr>\n",
       "    <tr>\n",
       "      <th>24</th>\n",
       "      <td>24</td>\n",
       "      <td>starbucks promo diskon 50% untuk pembelian min...</td>\n",
       "      <td>katalogpromosi</td>\n",
       "      <td>1</td>\n",
       "    </tr>\n",
       "    <tr>\n",
       "      <th>25</th>\n",
       "      <td>25</td>\n",
       "      <td>sempurnakan alat dapurmu yuk! peralatan dapur ...</td>\n",
       "      <td>alfacartID</td>\n",
       "      <td>1</td>\n",
       "    </tr>\n",
       "    <tr>\n",
       "      <th>26</th>\n",
       "      <td>26</td>\n",
       "      <td>@gramedia handmaid's tale belum ketemu miinn d...</td>\n",
       "      <td>Ljwoori</td>\n",
       "      <td>0</td>\n",
       "    </tr>\n",
       "    <tr>\n",
       "      <th>27</th>\n",
       "      <td>27</td>\n",
       "      <td>@yrachmania temen gue nitip temennya pas di ho...</td>\n",
       "      <td>urpoisonivy</td>\n",
       "      <td>1</td>\n",
       "    </tr>\n",
       "    <tr>\n",
       "      <th>28</th>\n",
       "      <td>28</td>\n",
       "      <td>{np} 6 tiket diskon 50% masuk gelanggang samud...</td>\n",
       "      <td>New_preloved</td>\n",
       "      <td>0</td>\n",
       "    </tr>\n",
       "    <tr>\n",
       "      <th>29</th>\n",
       "      <td>29</td>\n",
       "      <td>kalok minta diskon, telponnyaaaa berkali kalii...</td>\n",
       "      <td>Kmunadiayuna</td>\n",
       "      <td>0</td>\n",
       "    </tr>\n",
       "    <tr>\n",
       "      <th>...</th>\n",
       "      <td>...</td>\n",
       "      <td>...</td>\n",
       "      <td>...</td>\n",
       "      <td>...</td>\n",
       "    </tr>\n",
       "    <tr>\n",
       "      <th>171</th>\n",
       "      <td>171</td>\n",
       "      <td>lewat aplikasi ini, bisa reservasi restoran pl...</td>\n",
       "      <td>foodball33</td>\n",
       "      <td>1</td>\n",
       "    </tr>\n",
       "    <tr>\n",
       "      <th>172</th>\n",
       "      <td>172</td>\n",
       "      <td>lewat aplikasi ini, bisa reservasi restoran pl...</td>\n",
       "      <td>SayaSukaMasak</td>\n",
       "      <td>1</td>\n",
       "    </tr>\n",
       "    <tr>\n",
       "      <th>173</th>\n",
       "      <td>173</td>\n",
       "      <td>lewat aplikasi ini, bisa reservasi restoran pl...</td>\n",
       "      <td>redyvine</td>\n",
       "      <td>1</td>\n",
       "    </tr>\n",
       "    <tr>\n",
       "      <th>174</th>\n",
       "      <td>174</td>\n",
       "      <td>lewat aplikasi ini, bisa reservasi restoran pl...</td>\n",
       "      <td>lezatbergizi</td>\n",
       "      <td>1</td>\n",
       "    </tr>\n",
       "    <tr>\n",
       "      <th>175</th>\n",
       "      <td>175</td>\n",
       "      <td>lewat aplikasi ini, bisa reservasi restoran pl...</td>\n",
       "      <td>fbrdn</td>\n",
       "      <td>1</td>\n",
       "    </tr>\n",
       "    <tr>\n",
       "      <th>176</th>\n",
       "      <td>176</td>\n",
       "      <td>lewat aplikasi ini, bisa reservasi restoran pl...</td>\n",
       "      <td>FineCuisineSmg</td>\n",
       "      <td>1</td>\n",
       "    </tr>\n",
       "    <tr>\n",
       "      <th>177</th>\n",
       "      <td>177</td>\n",
       "      <td>dapatkan tambahan diskon hingga 10% khusus bag...</td>\n",
       "      <td>KartuKreditBCA</td>\n",
       "      <td>1</td>\n",
       "    </tr>\n",
       "    <tr>\n",
       "      <th>178</th>\n",
       "      <td>178</td>\n",
       "      <td>@tchallabae diskon kahh???</td>\n",
       "      <td>ZKDLIN88kai</td>\n",
       "      <td>0</td>\n",
       "    </tr>\n",
       "    <tr>\n",
       "      <th>179</th>\n",
       "      <td>179</td>\n",
       "      <td>cardholders, sudah waktunya mengganti springbe...</td>\n",
       "      <td>mandiricard</td>\n",
       "      <td>1</td>\n",
       "    </tr>\n",
       "    <tr>\n",
       "      <th>180</th>\n",
       "      <td>180</td>\n",
       "      <td>harga gledek 1 hari lagi! nikmati diskon tiket...</td>\n",
       "      <td>tiket</td>\n",
       "      <td>1</td>\n",
       "    </tr>\n",
       "    <tr>\n",
       "      <th>181</th>\n",
       "      <td>181</td>\n",
       "      <td>dibuka prapesan!  mencari bali yang berubah ka...</td>\n",
       "      <td>basabasi_store</td>\n",
       "      <td>1</td>\n",
       "    </tr>\n",
       "    <tr>\n",
       "      <th>182</th>\n",
       "      <td>182</td>\n",
       "      <td>@vindayp diskon akhir tahun dong</td>\n",
       "      <td>sighatullah</td>\n",
       "      <td>0</td>\n",
       "    </tr>\n",
       "    <tr>\n",
       "      <th>183</th>\n",
       "      <td>183</td>\n",
       "      <td>cobaan apa ini pilih yg (sedang diskon 50 pers...</td>\n",
       "      <td>boo_tato</td>\n",
       "      <td>0</td>\n",
       "    </tr>\n",
       "    <tr>\n",
       "      <th>184</th>\n",
       "      <td>184</td>\n",
       "      <td>@izonechoiyena ngga kok, cuma lagi diskon aja.</td>\n",
       "      <td>ddeulguom</td>\n",
       "      <td>0</td>\n",
       "    </tr>\n",
       "    <tr>\n",
       "      <th>185</th>\n",
       "      <td>185</td>\n",
       "      <td>@womanfeeds shinzui.. sering diskon di alfa in...</td>\n",
       "      <td>migumiguya</td>\n",
       "      <td>0</td>\n",
       "    </tr>\n",
       "    <tr>\n",
       "      <th>186</th>\n",
       "      <td>186</td>\n",
       "      <td>kampanye 11.11 ini akan berlangsung 10 hari mu...</td>\n",
       "      <td>kompascom</td>\n",
       "      <td>0</td>\n",
       "    </tr>\n",
       "    <tr>\n",
       "      <th>187</th>\n",
       "      <td>187</td>\n",
       "      <td>starbucks promo diskon 50% untuk pembelian min...</td>\n",
       "      <td>katalogpromosi</td>\n",
       "      <td>1</td>\n",
       "    </tr>\n",
       "    <tr>\n",
       "      <th>188</th>\n",
       "      <td>188</td>\n",
       "      <td>#repost hushpuppiesid          calm your day w...</td>\n",
       "      <td>Park23Bali</td>\n",
       "      <td>1</td>\n",
       "    </tr>\n",
       "    <tr>\n",
       "      <th>189</th>\n",
       "      <td>189</td>\n",
       "      <td>#rt @generasimilenia: diskon dan bonus goda pe...</td>\n",
       "      <td>infoinfokeren</td>\n",
       "      <td>0</td>\n",
       "    </tr>\n",
       "    <tr>\n",
       "      <th>190</th>\n",
       "      <td>190</td>\n",
       "      <td>#jalanjalangratis #ngilanginstres #ngilanginst...</td>\n",
       "      <td>TiketPesawatPro</td>\n",
       "      <td>1</td>\n",
       "    </tr>\n",
       "    <tr>\n",
       "      <th>191</th>\n",
       "      <td>191</td>\n",
       "      <td>@husen_jafar @na_dirs ilmu dan diskon fungsiny...</td>\n",
       "      <td>_Sai_ful</td>\n",
       "      <td>0</td>\n",
       "    </tr>\n",
       "    <tr>\n",
       "      <th>192</th>\n",
       "      <td>192</td>\n",
       "      <td>@syikapn tltsn lagi diskon ya de? masi banyak ...</td>\n",
       "      <td>pristiaudiaa</td>\n",
       "      <td>0</td>\n",
       "    </tr>\n",
       "    <tr>\n",
       "      <th>193</th>\n",
       "      <td>193</td>\n",
       "      <td>diskon 40% dari harga normal</td>\n",
       "      <td>IkigawaLee</td>\n",
       "      <td>0</td>\n",
       "    </tr>\n",
       "    <tr>\n",
       "      <th>194</th>\n",
       "      <td>194</td>\n",
       "      <td>@_sai_ful @na_dirs aku sudah ngasih ilmu, masa...</td>\n",
       "      <td>Husen_Jafar</td>\n",
       "      <td>0</td>\n",
       "    </tr>\n",
       "    <tr>\n",
       "      <th>195</th>\n",
       "      <td>195</td>\n",
       "      <td>kemarin sebelum ke maiyah, sempet nonton ini j...</td>\n",
       "      <td>ShadaHanin</td>\n",
       "      <td>1</td>\n",
       "    </tr>\n",
       "    <tr>\n",
       "      <th>196</th>\n",
       "      <td>196</td>\n",
       "      <td>cukup dengan membawa minimal 2 orang pendampin...</td>\n",
       "      <td>ancoltmnimpian</td>\n",
       "      <td>1</td>\n",
       "    </tr>\n",
       "    <tr>\n",
       "      <th>197</th>\n",
       "      <td>197</td>\n",
       "      <td>@zefanyaruth @ohmybeautybank legging airism en...</td>\n",
       "      <td>deenoora</td>\n",
       "      <td>0</td>\n",
       "    </tr>\n",
       "    <tr>\n",
       "      <th>198</th>\n",
       "      <td>198</td>\n",
       "      <td>2 bioglass 4jt dapet diskon 300rb dapet lagi g...</td>\n",
       "      <td>sellyriantica</td>\n",
       "      <td>1</td>\n",
       "    </tr>\n",
       "    <tr>\n",
       "      <th>199</th>\n",
       "      <td>199</td>\n",
       "      <td>@womanfeeds wahh yg bener diskon?</td>\n",
       "      <td>fitriindaahp</td>\n",
       "      <td>0</td>\n",
       "    </tr>\n",
       "    <tr>\n",
       "      <th>200</th>\n",
       "      <td>200</td>\n",
       "      <td>masuk bulan november banyak email dan sms ngas...</td>\n",
       "      <td>thirteeniaa</td>\n",
       "      <td>0</td>\n",
       "    </tr>\n",
       "  </tbody>\n",
       "</table>\n",
       "<p>201 rows × 4 columns</p>\n",
       "</div>"
      ],
      "text/plain": [
       "     Unnamed: 0                                                  0  \\\n",
       "0             0   ya anjir cpt bgt ya abis barang manusia diskon:(   \n",
       "1             1  lazada 11.11.2019 diskon terbesar 24 jam https...   \n",
       "2             2  selama kalo liat promo diskon 70% + 30% dalem ...   \n",
       "3             3  apa bedanya matahari sama bulan?  matahari ada...   \n",
       "4             4  @garudacares bagaimana cara tukar mileage disk...   \n",
       "5             5  @gencamon nahiya benerrr hahahaha kalo makan c...   \n",
       "6             6         fak gmarket kenapa diskon nya sekarang sih   \n",
       "7             7  sejarah asia tenggara karya m.c. ricklefs rp 3...   \n",
       "8             8  @amingcoffee transmart kuburaya diskon, kapan ...   \n",
       "9             9  tah diskon 50% cenah..  yuk diserbu..   https:...   \n",
       "10           10  @wongalas901 @prabowo @aniesbaswedan rika wis ...   \n",
       "11           11  sebenarnya bahagia itu sederhana... - beli ini...   \n",
       "12           12  yuhuu..  siapa lagi yang mau order deodorantny...   \n",
       "13           13  @febjae iya teh ambil aja yang kuning mah. dis...   \n",
       "14           14  pesta harga akhir tahun di giias medan auto sh...   \n",
       "15           15  yaampun kak aulll. eh tapi itu make over lagi ...   \n",
       "16           16  @rahagyu29 @bayu_joo jadi misal harganya 100rb...   \n",
       "17           17  pesta harga akhir tahun di giias medan auto sh...   \n",
       "18           18  hanya hari ini! shopee promo 11.11 big sale! 1...   \n",
       "19           19  @tys1004 mau beli season greetings tia, per ha...   \n",
       "20           20  cgv cinemas kini hadir di icon mall #gresik . ...   \n",
       "21           21  @princekuaniin fansite kyknya soalnya itu pun ...   \n",
       "22           22  beli tiket kereta api di @tokopedia diskon 20%...   \n",
       "23           23  buat kalian yang bisa jajan di alfamart - yuk ...   \n",
       "24           24  starbucks promo diskon 50% untuk pembelian min...   \n",
       "25           25  sempurnakan alat dapurmu yuk! peralatan dapur ...   \n",
       "26           26  @gramedia handmaid's tale belum ketemu miinn d...   \n",
       "27           27  @yrachmania temen gue nitip temennya pas di ho...   \n",
       "28           28  {np} 6 tiket diskon 50% masuk gelanggang samud...   \n",
       "29           29  kalok minta diskon, telponnyaaaa berkali kalii...   \n",
       "..          ...                                                ...   \n",
       "171         171  lewat aplikasi ini, bisa reservasi restoran pl...   \n",
       "172         172  lewat aplikasi ini, bisa reservasi restoran pl...   \n",
       "173         173  lewat aplikasi ini, bisa reservasi restoran pl...   \n",
       "174         174  lewat aplikasi ini, bisa reservasi restoran pl...   \n",
       "175         175  lewat aplikasi ini, bisa reservasi restoran pl...   \n",
       "176         176  lewat aplikasi ini, bisa reservasi restoran pl...   \n",
       "177         177  dapatkan tambahan diskon hingga 10% khusus bag...   \n",
       "178         178                         @tchallabae diskon kahh???   \n",
       "179         179  cardholders, sudah waktunya mengganti springbe...   \n",
       "180         180  harga gledek 1 hari lagi! nikmati diskon tiket...   \n",
       "181         181  dibuka prapesan!  mencari bali yang berubah ka...   \n",
       "182         182                   @vindayp diskon akhir tahun dong   \n",
       "183         183  cobaan apa ini pilih yg (sedang diskon 50 pers...   \n",
       "184         184     @izonechoiyena ngga kok, cuma lagi diskon aja.   \n",
       "185         185  @womanfeeds shinzui.. sering diskon di alfa in...   \n",
       "186         186  kampanye 11.11 ini akan berlangsung 10 hari mu...   \n",
       "187         187  starbucks promo diskon 50% untuk pembelian min...   \n",
       "188         188  #repost hushpuppiesid          calm your day w...   \n",
       "189         189  #rt @generasimilenia: diskon dan bonus goda pe...   \n",
       "190         190  #jalanjalangratis #ngilanginstres #ngilanginst...   \n",
       "191         191  @husen_jafar @na_dirs ilmu dan diskon fungsiny...   \n",
       "192         192  @syikapn tltsn lagi diskon ya de? masi banyak ...   \n",
       "193         193                       diskon 40% dari harga normal   \n",
       "194         194  @_sai_ful @na_dirs aku sudah ngasih ilmu, masa...   \n",
       "195         195  kemarin sebelum ke maiyah, sempet nonton ini j...   \n",
       "196         196  cukup dengan membawa minimal 2 orang pendampin...   \n",
       "197         197  @zefanyaruth @ohmybeautybank legging airism en...   \n",
       "198         198  2 bioglass 4jt dapet diskon 300rb dapet lagi g...   \n",
       "199         199                  @womanfeeds wahh yg bener diskon?   \n",
       "200         200  masuk bulan november banyak email dan sms ngas...   \n",
       "\n",
       "                   1  2  \n",
       "0           SOHEEDCH  0  \n",
       "1          Vallno_07  1  \n",
       "2           bayu_joo  0  \n",
       "3         Hanifati_f  0  \n",
       "4             Nug_QA  1  \n",
       "5           primetam  0  \n",
       "6         singularyv  0  \n",
       "7     KomunitasBambu  1  \n",
       "8        kalbarinfo_  0  \n",
       "9     AmaAbiyyunShoh  1  \n",
       "10      Dianhandoko6  0  \n",
       "11         anggieppu  0  \n",
       "12   indri_indriyuni  0  \n",
       "13          favechan  0  \n",
       "14       IcanIndopro  0  \n",
       "15       tyoungjaems  1  \n",
       "16        gardagagar  0  \n",
       "17       IcanIndopro  1  \n",
       "18    katalogpromosi  1  \n",
       "19         ChocoBee_  0  \n",
       "20          GoersApp  1  \n",
       "21     aracelli_0129  0  \n",
       "22         promo_BRI  1  \n",
       "23    katalogpromosi  1  \n",
       "24    katalogpromosi  1  \n",
       "25        alfacartID  1  \n",
       "26           Ljwoori  0  \n",
       "27       urpoisonivy  1  \n",
       "28      New_preloved  0  \n",
       "29      Kmunadiayuna  0  \n",
       "..               ... ..  \n",
       "171       foodball33  1  \n",
       "172    SayaSukaMasak  1  \n",
       "173         redyvine  1  \n",
       "174     lezatbergizi  1  \n",
       "175            fbrdn  1  \n",
       "176   FineCuisineSmg  1  \n",
       "177   KartuKreditBCA  1  \n",
       "178      ZKDLIN88kai  0  \n",
       "179      mandiricard  1  \n",
       "180            tiket  1  \n",
       "181   basabasi_store  1  \n",
       "182      sighatullah  0  \n",
       "183         boo_tato  0  \n",
       "184        ddeulguom  0  \n",
       "185       migumiguya  0  \n",
       "186        kompascom  0  \n",
       "187   katalogpromosi  1  \n",
       "188       Park23Bali  1  \n",
       "189    infoinfokeren  0  \n",
       "190  TiketPesawatPro  1  \n",
       "191         _Sai_ful  0  \n",
       "192     pristiaudiaa  0  \n",
       "193       IkigawaLee  0  \n",
       "194      Husen_Jafar  0  \n",
       "195       ShadaHanin  1  \n",
       "196   ancoltmnimpian  1  \n",
       "197         deenoora  0  \n",
       "198    sellyriantica  1  \n",
       "199     fitriindaahp  0  \n",
       "200      thirteeniaa  0  \n",
       "\n",
       "[201 rows x 4 columns]"
      ]
     },
     "execution_count": 2,
     "metadata": {},
     "output_type": "execute_result"
    }
   ],
   "source": [
    "data = pd.read_csv('integrated_data/integrated_with_label.csv', sep=',', encoding='latin-1')\n",
    "data"
   ]
  },
  {
   "cell_type": "code",
   "execution_count": 3,
   "metadata": {},
   "outputs": [
    {
     "data": {
      "text/html": [
       "<div>\n",
       "<style scoped>\n",
       "    .dataframe tbody tr th:only-of-type {\n",
       "        vertical-align: middle;\n",
       "    }\n",
       "\n",
       "    .dataframe tbody tr th {\n",
       "        vertical-align: top;\n",
       "    }\n",
       "\n",
       "    .dataframe thead tr th {\n",
       "        text-align: left;\n",
       "    }\n",
       "\n",
       "    .dataframe thead tr:last-of-type th {\n",
       "        text-align: right;\n",
       "    }\n",
       "</style>\n",
       "<table border=\"1\" class=\"dataframe\">\n",
       "  <thead>\n",
       "    <tr>\n",
       "      <th></th>\n",
       "      <th colspan=\"8\" halign=\"left\">Unnamed: 0</th>\n",
       "    </tr>\n",
       "    <tr>\n",
       "      <th></th>\n",
       "      <th>count</th>\n",
       "      <th>mean</th>\n",
       "      <th>std</th>\n",
       "      <th>min</th>\n",
       "      <th>25%</th>\n",
       "      <th>50%</th>\n",
       "      <th>75%</th>\n",
       "      <th>max</th>\n",
       "    </tr>\n",
       "    <tr>\n",
       "      <th>2</th>\n",
       "      <th></th>\n",
       "      <th></th>\n",
       "      <th></th>\n",
       "      <th></th>\n",
       "      <th></th>\n",
       "      <th></th>\n",
       "      <th></th>\n",
       "      <th></th>\n",
       "    </tr>\n",
       "  </thead>\n",
       "  <tbody>\n",
       "    <tr>\n",
       "      <th>0</th>\n",
       "      <td>88.0</td>\n",
       "      <td>102.011364</td>\n",
       "      <td>62.579144</td>\n",
       "      <td>0.0</td>\n",
       "      <td>44.75</td>\n",
       "      <td>105.5</td>\n",
       "      <td>154.0</td>\n",
       "      <td>200.0</td>\n",
       "    </tr>\n",
       "    <tr>\n",
       "      <th>1</th>\n",
       "      <td>113.0</td>\n",
       "      <td>98.433628</td>\n",
       "      <td>54.720210</td>\n",
       "      <td>1.0</td>\n",
       "      <td>53.00</td>\n",
       "      <td>96.0</td>\n",
       "      <td>145.0</td>\n",
       "      <td>198.0</td>\n",
       "    </tr>\n",
       "  </tbody>\n",
       "</table>\n",
       "</div>"
      ],
      "text/plain": [
       "  Unnamed: 0                                                        \n",
       "       count        mean        std  min    25%    50%    75%    max\n",
       "2                                                                   \n",
       "0       88.0  102.011364  62.579144  0.0  44.75  105.5  154.0  200.0\n",
       "1      113.0   98.433628  54.720210  1.0  53.00   96.0  145.0  198.0"
      ]
     },
     "execution_count": 3,
     "metadata": {},
     "output_type": "execute_result"
    }
   ],
   "source": [
    "data.groupby('2').describe()"
   ]
  },
  {
   "cell_type": "code",
   "execution_count": 4,
   "metadata": {
    "collapsed": true
   },
   "outputs": [],
   "source": [
    "def tokenize(msg):\n",
    "    clean = [char for char in msg if char not in string.punctuation]\n",
    "    clean = ''.join(clean)\n",
    "    return clean.lower().split()"
   ]
  },
  {
   "cell_type": "code",
   "execution_count": 5,
   "metadata": {},
   "outputs": [
    {
     "name": "stdout",
     "output_type": "stream",
     "text": [
      "['bocan', 'suka', 'mencuri', 'timun']\n"
     ]
    }
   ],
   "source": [
    "m = tokenize(\"Bocan??? Suka mencuri timun...\")\n",
    "print(m)"
   ]
  },
  {
   "cell_type": "markdown",
   "metadata": {},
   "source": [
    "## Bag Of Words"
   ]
  },
  {
   "cell_type": "code",
   "execution_count": 6,
   "metadata": {
    "collapsed": true
   },
   "outputs": [],
   "source": [
    "bag_of_word = CountVectorizer(analyzer=tokenize).fit(data['0'])"
   ]
  },
  {
   "cell_type": "code",
   "execution_count": 7,
   "metadata": {},
   "outputs": [
    {
     "name": "stdout",
     "output_type": "stream",
     "text": [
      "1721\n"
     ]
    }
   ],
   "source": [
    "print(len(bag_of_word.vocabulary_))"
   ]
  },
  {
   "cell_type": "code",
   "execution_count": 8,
   "metadata": {},
   "outputs": [
    {
     "name": "stdout",
     "output_type": "stream",
     "text": [
      "sejarah asia tenggara karya m.c. ricklefs rp 350.000 diskon rp 210.000  order: https://t.co/vietimemom  atau   wa 0813-8543-0505 komunitas bambu jl. taufiqurrahman no.3 beji timur, depok  buka senin-jumat pukul 08.00-17.00 wib  #komunitasbambu #sejarahasiatenggara https://t.co/xxdt22uodi\n"
     ]
    }
   ],
   "source": [
    "msg = data['0'][7]\n",
    "print(msg)"
   ]
  },
  {
   "cell_type": "code",
   "execution_count": 9,
   "metadata": {
    "collapsed": true
   },
   "outputs": [],
   "source": [
    "bow = bag_of_word.transform([msg])"
   ]
  },
  {
   "cell_type": "code",
   "execution_count": 10,
   "metadata": {},
   "outputs": [
    {
     "name": "stdout",
     "output_type": "stream",
     "text": [
      "  (0, 3)\t1\n",
      "  (0, 5)\t1\n",
      "  (0, 39)\t1\n",
      "  (0, 58)\t1\n",
      "  (0, 161)\t1\n",
      "  (0, 166)\t1\n",
      "  (0, 194)\t1\n",
      "  (0, 222)\t1\n",
      "  (0, 306)\t1\n",
      "  (0, 388)\t1\n",
      "  (0, 426)\t1\n",
      "  (0, 739)\t1\n",
      "  (0, 745)\t1\n",
      "  (0, 827)\t1\n",
      "  (0, 876)\t1\n",
      "  (0, 928)\t1\n",
      "  (0, 929)\t1\n",
      "  (0, 1055)\t1\n",
      "  (0, 1165)\t1\n",
      "  (0, 1205)\t1\n",
      "  (0, 1315)\t1\n",
      "  (0, 1352)\t1\n",
      "  (0, 1358)\t2\n",
      "  (0, 1415)\t1\n",
      "  (0, 1416)\t1\n",
      "  (0, 1447)\t1\n",
      "  (0, 1550)\t1\n",
      "  (0, 1563)\t1\n",
      "  (0, 1593)\t1\n",
      "  (0, 1661)\t1\n",
      "  (0, 1682)\t1\n"
     ]
    }
   ],
   "source": [
    "print(bow)"
   ]
  },
  {
   "cell_type": "code",
   "execution_count": 11,
   "metadata": {},
   "outputs": [
    {
     "name": "stdout",
     "output_type": "stream",
     "text": [
      "(1, 1721)\n"
     ]
    }
   ],
   "source": [
    "print(bow.shape)"
   ]
  },
  {
   "cell_type": "code",
   "execution_count": 12,
   "metadata": {},
   "outputs": [
    {
     "name": "stdout",
     "output_type": "stream",
     "text": [
      "longdress\n"
     ]
    }
   ],
   "source": [
    "print(bag_of_word.get_feature_names()[990])"
   ]
  },
  {
   "cell_type": "code",
   "execution_count": 13,
   "metadata": {
    "collapsed": true
   },
   "outputs": [],
   "source": [
    "messages = bag_of_word.transform(data['0'])"
   ]
  },
  {
   "cell_type": "code",
   "execution_count": 20,
   "metadata": {},
   "outputs": [
    {
     "data": {
      "text/plain": [
       "TfidfTransformer(norm='l2', smooth_idf=True, sublinear_tf=False, use_idf=True)"
      ]
     },
     "execution_count": 20,
     "metadata": {},
     "output_type": "execute_result"
    }
   ],
   "source": [
    "from sklearn.feature_extraction.text import TfidfTransformer\n",
    "\n",
    "tfidf = TfidfTransformer().fit(messages)\n",
    "\n",
    "tfidf"
   ]
  },
  {
   "cell_type": "code",
   "execution_count": 21,
   "metadata": {},
   "outputs": [
    {
     "name": "stdout",
     "output_type": "stream",
     "text": [
      "  (0, 1682)\t0.18440417303669154\n",
      "  (0, 1661)\t0.16164077334820637\n",
      "  (0, 1593)\t0.18440417303669154\n",
      "  (0, 1563)\t0.17108843783000008\n",
      "  (0, 1550)\t0.18440417303669154\n",
      "  (0, 1447)\t0.18440417303669154\n",
      "  (0, 1416)\t0.18440417303669154\n",
      "  (0, 1415)\t0.17108843783000008\n",
      "  (0, 1358)\t0.2700186058696469\n",
      "  (0, 1352)\t0.18440417303669154\n",
      "  (0, 1315)\t0.18440417303669154\n",
      "  (0, 1205)\t0.1483250381415149\n",
      "  (0, 1165)\t0.18440417303669154\n",
      "  (0, 1055)\t0.18440417303669154\n",
      "  (0, 929)\t0.18440417303669154\n",
      "  (0, 928)\t0.18440417303669154\n",
      "  (0, 876)\t0.17108843783000008\n",
      "  (0, 827)\t0.18440417303669154\n",
      "  (0, 745)\t0.18440417303669154\n",
      "  (0, 739)\t0.18440417303669154\n",
      "  (0, 426)\t0.03349747861631423\n",
      "  (0, 388)\t0.18440417303669154\n",
      "  (0, 306)\t0.14326263056694333\n",
      "  (0, 222)\t0.18440417303669154\n",
      "  (0, 194)\t0.18440417303669154\n",
      "  (0, 166)\t0.16164077334820637\n",
      "  (0, 161)\t0.17108843783000008\n",
      "  (0, 58)\t0.18440417303669154\n",
      "  (0, 39)\t0.18440417303669154\n",
      "  (0, 5)\t0.18440417303669154\n",
      "  (0, 3)\t0.18440417303669154\n"
     ]
    }
   ],
   "source": [
    "tfidf9 = tfidf.transform(bow)\n",
    "print(tfidf9)"
   ]
  },
  {
   "cell_type": "code",
   "execution_count": 22,
   "metadata": {},
   "outputs": [
    {
     "name": "stdout",
     "output_type": "stream",
     "text": [
      "(201, 1721)\n"
     ]
    }
   ],
   "source": [
    "messages_tfidf = tfidf.transform(messages)\n",
    "print(messages_tfidf.shape)"
   ]
  },
  {
   "cell_type": "code",
   "execution_count": 23,
   "metadata": {},
   "outputs": [
    {
     "name": "stdout",
     "output_type": "stream",
     "text": [
      "160 41 201\n"
     ]
    }
   ],
   "source": [
    "x_train, x_test, y_train, y_test = \\\n",
    "train_test_split(data['0'], data['2'], test_size=0.2)\n",
    "\n",
    "print(len(x_train), len(x_test), len(x_train) + len(x_test))"
   ]
  },
  {
   "cell_type": "code",
   "execution_count": 25,
   "metadata": {},
   "outputs": [
    {
     "data": {
      "text/plain": [
       "182                     @vindayp diskon akhir tahun dong\n",
       "72     octosave dari @misteraladinid diperpanjang lho...\n",
       "21     @princekuaniin fansite kyknya soalnya itu pun ...\n",
       "145    diskon toyota bogor, hub: 085701512000 https:/...\n",
       "63     nginap di hotel ini, peserta bpjs cuma bayar s...\n",
       "Name: 0, dtype: object"
      ]
     },
     "execution_count": 25,
     "metadata": {},
     "output_type": "execute_result"
    }
   ],
   "source": [
    "x_train.head(5)"
   ]
  },
  {
   "cell_type": "code",
   "execution_count": 26,
   "metadata": {},
   "outputs": [
    {
     "data": {
      "text/plain": [
       "182    0\n",
       "72     1\n",
       "21     0\n",
       "145    1\n",
       "63     1\n",
       "Name: 2, dtype: int64"
      ]
     },
     "execution_count": 26,
     "metadata": {},
     "output_type": "execute_result"
    }
   ],
   "source": [
    "y_train.head(5)"
   ]
  },
  {
   "cell_type": "markdown",
   "metadata": {},
   "source": [
    "from keras.models import Sequential\n",
    "from keras.layers import Dense\n",
    "from sklearn.preprocessing import MinMaxScaler\n",
    "\n",
    "model = Sequential()\n",
    "model.add(Dense(50, input_dim=10, activation='relu'))\n",
    "model.add(Dense(10, activation='relu'))\n",
    "model.add(Dense(1, activation='sigmoid'))\n"
   ]
  },
  {
   "cell_type": "code",
   "execution_count": 64,
   "metadata": {
    "collapsed": true
   },
   "outputs": [],
   "source": [
    "from sklearn.neural_network import MLPClassifier\n",
    "from sklearn.pipeline import Pipeline\n",
    "from sklearn.metrics import classification_report\n",
    "\n",
    "model = MLPClassifier().fit(messages_tfidf, data['2'])"
   ]
  },
  {
   "cell_type": "code",
   "execution_count": 65,
   "metadata": {
    "collapsed": true
   },
   "outputs": [],
   "source": [
    "pipeline = Pipeline([\n",
    "    ('bow', CountVectorizer(analyzer=tokenize)),  # strings to token integer counts\n",
    "    ('tfidf', TfidfTransformer()),  # integer counts to weighted TF-IDF scores\n",
    "    ('nn', model),  # train on TF-IDF vectors w/ Naive Bayes classifier\n",
    "])"
   ]
  },
  {
   "cell_type": "code",
   "execution_count": 66,
   "metadata": {},
   "outputs": [
    {
     "data": {
      "text/plain": [
       "Pipeline(memory=None,\n",
       "     steps=[('bow', CountVectorizer(analyzer=<function tokenize at 0x000001A8896C3598>,\n",
       "        binary=False, decode_error='strict', dtype=<class 'numpy.int64'>,\n",
       "        encoding='utf-8', input='content', lowercase=True, max_df=1.0,\n",
       "        max_features=None, min_df=1, ngram_range=(1, 1), preprocessor=No...=True, solver='adam', tol=0.0001, validation_fraction=0.1,\n",
       "       verbose=False, warm_start=False))])"
      ]
     },
     "execution_count": 66,
     "metadata": {},
     "output_type": "execute_result"
    }
   ],
   "source": [
    "pipeline.fit(x_train,y_train)"
   ]
  },
  {
   "cell_type": "code",
   "execution_count": 67,
   "metadata": {
    "collapsed": true
   },
   "outputs": [],
   "source": [
    "predictions = pipeline.predict(x_test)"
   ]
  },
  {
   "cell_type": "code",
   "execution_count": 68,
   "metadata": {},
   "outputs": [
    {
     "name": "stdout",
     "output_type": "stream",
     "text": [
      "             precision    recall  f1-score   support\n",
      "\n",
      "          0       0.55      0.92      0.69        13\n",
      "          1       0.95      0.64      0.77        28\n",
      "\n",
      "avg / total       0.82      0.73      0.74        41\n",
      "\n"
     ]
    }
   ],
   "source": [
    "print(classification_report(predictions,y_test))"
   ]
  },
  {
   "cell_type": "code",
   "execution_count": null,
   "metadata": {
    "collapsed": true
   },
   "outputs": [],
   "source": []
  }
 ],
 "metadata": {
  "kernelspec": {
   "display_name": "Python 3",
   "language": "python",
   "name": "python3"
  },
  "language_info": {
   "codemirror_mode": {
    "name": "ipython",
    "version": 3
   },
   "file_extension": ".py",
   "mimetype": "text/x-python",
   "name": "python",
   "nbconvert_exporter": "python",
   "pygments_lexer": "ipython3",
   "version": "3.6.3"
  }
 },
 "nbformat": 4,
 "nbformat_minor": 2
}
