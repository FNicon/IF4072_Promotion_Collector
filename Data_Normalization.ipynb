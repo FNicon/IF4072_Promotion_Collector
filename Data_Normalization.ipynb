{
 "cells": [
  {
   "cell_type": "markdown",
   "metadata": {},
   "source": [
    "## Imports"
   ]
  },
  {
   "cell_type": "code",
   "execution_count": 1,
   "metadata": {
    "collapsed": true
   },
   "outputs": [],
   "source": [
    "import glob\n",
    "import pandas as pd\n",
    "import re\n",
    "import numpy as np\n",
    "import nltk\n",
    "import math\n",
    "\n",
    "#nltk.download()"
   ]
  },
  {
   "cell_type": "markdown",
   "metadata": {},
   "source": [
    "## Functions"
   ]
  },
  {
   "cell_type": "markdown",
   "metadata": {},
   "source": [
    "### Save"
   ]
  },
  {
   "cell_type": "code",
   "execution_count": 2,
   "metadata": {
    "collapsed": true
   },
   "outputs": [],
   "source": [
    "def save_as_csv(filename, dataframe) :\n",
    "    dataframe.to_csv(filename, encoding='utf-8')"
   ]
  },
  {
   "cell_type": "markdown",
   "metadata": {},
   "source": [
    "### Read all csv"
   ]
  },
  {
   "cell_type": "code",
   "execution_count": 3,
   "metadata": {
    "collapsed": true
   },
   "outputs": [],
   "source": [
    "def readcsv(path):\n",
    "    data_input = pd.read_csv(path, header=0, usecols=range(1,3))\n",
    "    data_frame_input = pd.DataFrame(data = data_input)\n",
    "    return data_frame_input\n",
    "formal_words_data = readcsv(\"text_data/wordlist2.csv\")"
   ]
  },
  {
   "cell_type": "code",
   "execution_count": 4,
   "metadata": {
    "scrolled": true
   },
   "outputs": [],
   "source": [
    "def is_contain(check_data, datas):\n",
    "    i = 0\n",
    "    while ((i < len(datas)) and (check_data[0] != datas[i][0])) :\n",
    "        i = i + 1\n",
    "    return (i < len(datas))\n",
    "\n",
    "def filter_same_data(check_datas, datas):\n",
    "    new_array = datas\n",
    "    for i in range(len(check_datas)) :\n",
    "        if (not(is_contain(check_datas[i], new_array))):\n",
    "            if (len(new_array) == 0):\n",
    "                new_array = [check_datas[i]]\n",
    "            else :\n",
    "                new_array = np.append(new_array,[check_datas[i]], axis = 0)\n",
    "    new_array = pd.DataFrame(data = new_array).values\n",
    "    return (new_array)\n",
    "\n",
    "def read_all_csv():\n",
    "    result = []\n",
    "    attribute_names = [\"\",\"tweet\",\"user\"]\n",
    "    csvs_path = glob.glob('raw_data/*.csv')\n",
    "    for path in csvs_path :\n",
    "        data_input = pd.read_csv(path, header=0, usecols=range(1,3))\n",
    "        data_frame_input = pd.DataFrame(data = data_input).values\n",
    "        apply_first_normalization(data_frame_input)\n",
    "        result = filter_same_data(data_frame_input, result)\n",
    "    data_frame_result = pd.DataFrame(data = result)\n",
    "    return (data_frame_result.values)"
   ]
  },
  {
   "cell_type": "markdown",
   "metadata": {},
   "source": [
    "### Filter Emoji"
   ]
  },
  {
   "cell_type": "code",
   "execution_count": 5,
   "metadata": {
    "collapsed": true
   },
   "outputs": [],
   "source": [
    "def filter_emoji_in_array(datas):\n",
    "    for i in range(len(datas)):\n",
    "        datas[i][0] = filter_emoji(datas[i][0])\n",
    "\n",
    "def filter_emoji(text):\n",
    "    emoji_pattern = re.compile(\"[\"\n",
    "        u\"\\U00002700-\\U000027BF\"  # dingbats\n",
    "        u\"\\U00002460-\\U0001F2FF\"  # enclosed characters\n",
    "        u\"\\U0001F600-\\U0001F64F\"  # emoticons\n",
    "        u\"\\U0001F910-\\U0001F9FF\"  # emoticons\n",
    "        u\"\\U0001F300-\\U0001F5FF\"  # symbols & pictographs\n",
    "        u\"\\U0001F680-\\U0001F6FF\"  # transport & map symbols\n",
    "        u\"\\U00000080-\\U000000FF\"  # uncategorized 1 (latin 1 supplement)\n",
    "        u\"\\U00002000-\\U0000206F\"  # uncategorized 2 (general punctuation)\n",
    "        #u\"\\U00000000-\\U0000007F\"  # uncategorized 3 (basic latin)\n",
    "        u\"\\U000020D0-\\U000020FF\"  # uncategorized 4 (Combining Diacritical Marks for Symbols )\n",
    "        u\"\\U00002100-\\U0000214F\"  # uncategorized 5 (Letterlike Symbols )\n",
    "        u\"\\U00002300-\\U000023FF\"  # uncategorized 6 (Misc Technical )\n",
    "        u\"\\U000025A0-\\U000025FF\"  # uncategorized 7 (Geometric Shapes )\n",
    "        u\"\\U00002600-\\U000026FF\"  # uncategorized 8 (Misc Symbols )\n",
    "        u\"\\U00002900-\\U0000297F\"  # uncategorized 9 (Supp Arrows B )\n",
    "        u\"\\U00002B00-\\U00002BFF\"  # uncategorized 10 (Misc Symbol Arrows )\n",
    "        u\"\\U00003000-\\U0000303F\"  # uncategorized 11 (CJK Sumbols and Punc )\n",
    "        u\"\\U00003200-\\U000032FF\"  # uncategorized 12 (Enclosed CJK Letters and Months)\n",
    "        u\"\\U0001F000-\\U0001F02F\"  # uncategorized 13 (Mahjong Tiles)\n",
    "        u\"\\U0001F0A0-\\U0001F0FF\"  # uncategorized 14 (Playing Cards)\n",
    "        u\"\\U0001F300-\\U0001F5FF\"  # uncategorized 15 (Misc Symbols and Pict)\n",
    "        u\"\\U0001F1E0-\\U0001F1FF\"  # flags (iOS)\n",
    "                           \"]+\", flags=re.UNICODE)\n",
    "    return(emoji_pattern.sub(r'', text))\n"
   ]
  },
  {
   "cell_type": "markdown",
   "metadata": {},
   "source": [
    "### Lowercase"
   ]
  },
  {
   "cell_type": "code",
   "execution_count": 6,
   "metadata": {
    "collapsed": true
   },
   "outputs": [],
   "source": [
    "def lowercase_array(datas):\n",
    "    result = datas\n",
    "    for i in range(len(datas)):\n",
    "        result[i][0] = datas[i][0].lower()\n",
    "    datas = result"
   ]
  },
  {
   "cell_type": "code",
   "execution_count": 7,
   "metadata": {
    "collapsed": true
   },
   "outputs": [],
   "source": [
    "def apply_first_normalization(datas):\n",
    "    filter_emoji_in_array(datas)\n",
    "    lowercase_array(datas)"
   ]
  },
  {
   "cell_type": "markdown",
   "metadata": {},
   "source": [
    "### Filter Non Words"
   ]
  },
  {
   "cell_type": "code",
   "execution_count": 8,
   "metadata": {},
   "outputs": [],
   "source": [
    "def filter_url(text):\n",
    "    return(re.sub(r\"http\\S+\", \"\", text))\n",
    "\n",
    "def filter_tag(text):\n",
    "    return(re.sub(r\"@\\S+\", \"\", text))\n",
    "\n",
    "def filter_hashtag(text):\n",
    "    return(re.sub(r\"#\\S+\", \"\", text))\n",
    "\n",
    "def filter_not_alphanumeric(text):\n",
    "    return(re.sub(r'[^%\\w]', ' ', text))\n",
    "\n",
    "def filter_number(text):\n",
    "    return(re.sub(r'[0-9]', '', text))"
   ]
  },
  {
   "cell_type": "code",
   "execution_count": 9,
   "metadata": {},
   "outputs": [],
   "source": [
    "def filter_non_words(datas):\n",
    "    result = datas.copy(deep=True)\n",
    "    for i in range(len(datas)):\n",
    "        result[0][i] = filter_url(result[0][i])\n",
    "        result[0][i] = filter_tag(result[0][i])\n",
    "        result[0][i] = filter_hashtag(result[0][i])\n",
    "        result[0][i] = filter_not_alphanumeric(result[0][i])\n",
    "        #result[0][i] = filter_number(result[0][i])\n",
    "    return result"
   ]
  },
  {
   "cell_type": "markdown",
   "metadata": {
    "collapsed": true
   },
   "source": [
    "### Split Words"
   ]
  },
  {
   "cell_type": "code",
   "execution_count": 10,
   "metadata": {},
   "outputs": [],
   "source": [
    "def words_list_array(datas):\n",
    "    result = []\n",
    "    for i in range(len(datas)):\n",
    "        new_datas = nltk.word_tokenize(datas[0][i])\n",
    "        new_datas = pd.DataFrame(data=new_datas).values\n",
    "        result = filter_same_data(new_datas, result)\n",
    "        #result.extend(new_datas)\n",
    "    result = pd.DataFrame(data=result)\n",
    "    return result\n",
    "\n",
    "def words_list(data):\n",
    "    return(nltk.word_tokenize(data))"
   ]
  },
  {
   "cell_type": "code",
   "execution_count": 11,
   "metadata": {},
   "outputs": [],
   "source": [
    "def get_same_data_index(check_data, datas):\n",
    "    i = 0\n",
    "    while ((i < len(datas)) and (check_data != datas[i])) :\n",
    "        i = i + 1\n",
    "    if (i< len(datas)):\n",
    "        return i\n",
    "    else:\n",
    "        return -1\n",
    "\n",
    "def formalize_sentence(raw_sentence, formal_words):\n",
    "    raw_words = nltk.word_tokenize(raw_sentence)\n",
    "    result = \"\"\n",
    "    for i in range(len(raw_words)):\n",
    "        index = get_same_data_index(raw_words[i], formal_words[\"0\"])\n",
    "        if (index!= -1):\n",
    "            if (type(formal_words[\"1\"][index]) != float):\n",
    "                raw_words[i] = formal_words[\"1\"][index]\n",
    "        result = result + \" \" + str(raw_words[i])\n",
    "    return result\n",
    "\n",
    "def formalize_array_sentence(array_raw_sentence, formal_words):\n",
    "    result = array_raw_sentence.copy(deep=True)\n",
    "    for i in range(len(result)):\n",
    "        result[0][i] = formalize_sentence(result[0][i],formal_words)\n",
    "        #print(result[0][i])\n",
    "    return result\n",
    "\n",
    "#print(formalize_sentence(\"cpt yg bs jangan\", formal_words_data))"
   ]
  },
  {
   "cell_type": "markdown",
   "metadata": {
    "collapsed": true
   },
   "source": [
    "## Main"
   ]
  },
  {
   "cell_type": "code",
   "execution_count": 12,
   "metadata": {},
   "outputs": [
    {
     "name": "stdout",
     "output_type": "stream",
     "text": [
      "1344\n",
      "                                                      0                1\n",
      "0      ya anjir cpt bgt ya abis barang manusia diskon:(         SOHEEDCH\n",
      "1     lazada 11.11.2019 diskon terbesar 24 jam https...        Vallno_07\n",
      "2     selama kalo liat promo diskon 70% + 30% dalem ...         bayu_joo\n",
      "3     apa bedanya matahari sama bulan?  matahari ada...       Hanifati_f\n",
      "4     @garudacares bagaimana cara tukar mileage disk...           Nug_QA\n",
      "5     @gencamon nahiya benerrr hahahaha kalo makan c...         primetam\n",
      "6            fak gmarket kenapa diskon nya sekarang sih       singularyv\n",
      "7     sejarah asia tenggara karya m.c. ricklefs rp 3...   KomunitasBambu\n",
      "8     @amingcoffee transmart kuburaya diskon, kapan ...      kalbarinfo_\n",
      "9     tah diskon 50% cenah..  yuk diserbu..   https:...   AmaAbiyyunShoh\n",
      "10    @wongalas901 @prabowo @aniesbaswedan rika wis ...     Dianhandoko6\n",
      "11    sebenarnya bahagia itu sederhana... - beli ini...        anggieppu\n",
      "12    yuhuu..  siapa lagi yang mau order deodorantny...  indri_indriyuni\n",
      "13    @febjae iya teh ambil aja yang kuning mah. dis...         favechan\n",
      "14    pesta harga akhir tahun di giias medan auto sh...      IcanIndopro\n",
      "15    yaampun kak aulll. eh tapi itu make over lagi ...      tyoungjaems\n",
      "16    @rahagyu29 @bayu_joo jadi misal harganya 100rb...       gardagagar\n",
      "17    pesta harga akhir tahun di giias medan auto sh...      IcanIndopro\n",
      "18    rizka tunggu d htel y say, opn include promo p...       Rizkaulia3\n",
      "19    @tys1004 mau beli season greetings tia, per ha...        ChocoBee_\n",
      "20    cgv cinemas kini hadir di icon mall #gresik . ...         GoersApp\n",
      "21    @princekuaniin fansite kyknya soalnya itu pun ...    aracelli_0129\n",
      "22    beli tiket kereta api di @tokopedia diskon 20%...        promo_BRI\n",
      "23    buat kalian yang bisa jajan di alfamart - yuk ...   katalogpromosi\n",
      "24    starbucks promo diskon 50% untuk pembelian min...   katalogpromosi\n",
      "25    sempurnakan alat dapurmu yuk! peralatan dapur ...       alfacartID\n",
      "26    @gramedia handmaid's tale belum ketemu miinn d...          Ljwoori\n",
      "27    @yrachmania temen gue nitip temennya pas di ho...      urpoisonivy\n",
      "28    {np} 6 tiket diskon 50% masuk gelanggang samud...     New_preloved\n",
      "29    kalok minta diskon, telponnyaaaa berkali kalii...     Kmunadiayuna\n",
      "...                                                 ...              ...\n",
      "1314  @moontaewin grabfood mbaa kalo di kota gw pake...       laimegreen\n",
      "1315         @yunishemale klo cowok kurus gak di diskon       ari_udun03\n",
      "1316  lagi pengen essence saya tu tolong jangan disk...    bvttercookies\n",
      "1317  mediheal diskon jadi 195. cobaan apa lagi ini....    bvttercookies\n",
      "1318  perbedaan matahari dengan bulan? matahari ada ...      Sanita_RMCF\n",
      "1319  @pepisigiro langsung jual murah ya pep, diskon...      rimarimpong\n",
      "1320  hy grameds! kali ini gramedia memberikan inspi...  gramediapwkerto\n",
      "1321  diskon hingga 15% di crystal jade dgn cc bca t...     redirectline\n",
      "1322  lazada bca monday epromo! diskon 10% hingga rp...   katalogpromosi\n",
      "1323  @syahrul38 @gunromli @muannas_alaidid gak usah...       Aviecena05\n",
      "1324  udah pada isi saldo tcash nya belum? belanja #...          simPATI\n",
      "1325  halo, sahabat kai! kami nantikan kehadiranmu d...        hendra_ns\n",
      "1326  @dardhyrian -berlaku utk semua kartu mandiri d...    mandirifiesta\n",
      "1327  karena cuma https://t.co/e8cgb948wk online sho...          woodeiy\n",
      "1328  @dardhyrian mandiri debit &amp;/ kartu kredit ...    mandirifiesta\n",
      "1329  @dardhyrian utk promo pizza menggunakan fiesta...    mandirifiesta\n",
      "1330  waterboom lippo cikarang promo diskon 20%* khu...   katalogpromosi\n",
      "1331  beli pisang dapet diskon manggis cen lek wes s...     cindyatsanio\n",
      "1332  @yuflyulk hhmm good idea. ntar aku coba nego k...     vousmayvoyez\n",
      "1333  kalo udah di uninstall, jdid malah lg ngasih d...   bitaheldaroini\n",
      "1334  @arifhaz_ @sarasarafaina lhoooo saiki jaga di ...       ilmaharani\n",
      "1335  brt koridor iii siang ini.  ada ibu ibu menyar...    khaerunnisaQM\n",
      "1336   @sj4th84 belinyaa dimaanaa opp yg dapet diskon ?        instaeng9\n",
      "1337  road to fantastic 11! rayainnya #belanjabareng...       VIPPlazaID\n",
      "1338  @instaeng9 [ udah sg nya ga usah, belinya ntar...          SJ4th84\n",
      "1339  @plscallnuna_ wekawekaweka  diskon laahh 130 o...   LindaWintiasih\n",
      "1340  @kbltppz @womanfeeds bantu jawab, kmrn aku bel...      intanemaBlb\n",
      "1341  besooooook  jangan lupa, jam 6 sampe jam 8 pag...     fanifinafoni\n",
      "1342  @telkompromo hai ka, apakah ada kompensasi jik...          hanitya\n",
      "1343  hanya hari ini! shopee promo 11.11 big sale! 1...   katalogpromosi\n",
      "\n",
      "[1344 rows x 2 columns]\n"
     ]
    }
   ],
   "source": [
    "raw_data = read_all_csv()\n",
    "raw_data = pd.DataFrame(data=raw_data)\n",
    "save_as_csv(\"integrated_data/integrated.csv\",raw_data)\n",
    "\n",
    "print(len(raw_data))\n",
    "print(raw_data)"
   ]
  },
  {
   "cell_type": "code",
   "execution_count": 13,
   "metadata": {},
   "outputs": [
    {
     "name": "stdout",
     "output_type": "stream",
     "text": [
      "                                                      0                1\n",
      "0      ya anjir cpt bgt ya abis barang manusia diskon           SOHEEDCH\n",
      "1             lazada 11 11 2019 diskon terbesar 24 jam         Vallno_07\n",
      "2     selama kalo liat promo diskon 70%   30% dalem ...         bayu_joo\n",
      "3     apa bedanya matahari sama bulan   matahari ada...       Hanifati_f\n",
      "4      bagaimana cara tukar mileage diskon 70%  garu...           Nug_QA\n",
      "5      nahiya benerrr hahahaha kalo makan cantik ken...         primetam\n",
      "6            fak gmarket kenapa diskon nya sekarang sih       singularyv\n",
      "7     sejarah asia tenggara karya m c  ricklefs rp 3...   KomunitasBambu\n",
      "8      transmart kuburaya diskon  kapan lagi rp 5 00...      kalbarinfo_\n",
      "9              tah diskon 50% cenah    yuk diserbu        AmaAbiyyunShoh\n",
      "10       rika wis inden mobil esemka nek arp tuku ga...     Dianhandoko6\n",
      "11    sebenarnya bahagia itu sederhana      beli ini...        anggieppu\n",
      "12    yuhuu    siapa lagi yang mau order deodorantny...  indri_indriyuni\n",
      "13        iya teh ambil aja yang kuning mah  diskon 50%         favechan\n",
      "14    pesta harga akhir tahun di giias medan auto sh...      IcanIndopro\n",
      "15    yaampun kak aulll  eh tapi itu make over lagi ...      tyoungjaems\n",
      "16      jadi misal harganya 100rb diskon 70%   30% c...       gardagagar\n",
      "17    pesta harga akhir tahun di giias medan auto sh...      IcanIndopro\n",
      "18    rizka tunggu d htel y say  opn include promo p...       Rizkaulia3\n",
      "19     mau beli season greetings tia  per hari ini a...        ChocoBee_\n",
      "20    cgv cinemas kini hadir di icon mall    dapatka...         GoersApp\n",
      "21     fansite kyknya soalnya itu pun po di diskon  ...    aracelli_0129\n",
      "22    beli tiket kereta api di  diskon 20% pakai epa...        promo_BRI\n",
      "23    buat kalian yang bisa jajan di alfamart   yuk ...   katalogpromosi\n",
      "24    starbucks promo diskon 50% untuk pembelian min...   katalogpromosi\n",
      "25    sempurnakan alat dapurmu yuk  peralatan dapur ...       alfacartID\n",
      "26     handmaid s tale belum ketemu miinn dan diskon...          Ljwoori\n",
      "27     temen gue nitip temennya pas di hongkong lagi...      urpoisonivy\n",
      "28     np  6 tiket diskon 50% masuk gelanggang samud...     New_preloved\n",
      "29    kalok minta diskon  telponnyaaaa berkali kalii...     Kmunadiayuna\n",
      "...                                                 ...              ...\n",
      "1314   grabfood mbaa kalo di kota gw pake ovo diskon...       laimegreen\n",
      "1315                      klo cowok kurus gak di diskon       ari_udun03\n",
      "1316  lagi pengen essence saya tu tolong jangan disk...    bvttercookies\n",
      "1317  mediheal diskon jadi 195  cobaan apa lagi ini ...    bvttercookies\n",
      "1318  perbedaan matahari dengan bulan  matahari ada ...      Sanita_RMCF\n",
      "1319   langsung jual murah ya pep  diskon ga ada yg ...      rimarimpong\n",
      "1320  hy grameds  kali ini gramedia memberikan inspi...  gramediapwkerto\n",
      "1321  diskon hingga 15% di crystal jade dgn cc bca t...     redirectline\n",
      "1322  lazada bca monday epromo  diskon 10% hingga rp...   katalogpromosi\n",
      "1323     gak usah byk ngeles  biar adil ahok salah n...       Aviecena05\n",
      "1324  udah pada isi saldo tcash nya belum  belanja  ...          simPATI\n",
      "1325  halo  sahabat kai  kami nantikan kehadiranmu d...        hendra_ns\n",
      "1326    berlaku utk semua kartu mandiri debit dan ma...    mandirifiesta\n",
      "1327  karena cuma  online shop terlengkap dan terper...          woodeiy\n",
      "1328   mandiri debit  amp   kartu kredit min rp200 0...    mandirifiesta\n",
      "1329   utk promo pizza menggunakan fiestapoin dpt ka...    mandirifiesta\n",
      "1330  waterboom lippo cikarang promo diskon 20%  khu...   katalogpromosi\n",
      "1331  beli pisang dapet diskon manggis cen lek wes s...     cindyatsanio\n",
      "1332   hhmm good idea  ntar aku coba nego ke mbak ma...     vousmayvoyez\n",
      "1333  kalo udah di uninstall  jdid malah lg ngasih d...   bitaheldaroini\n",
      "1334    lhoooo saiki jaga di mengantiiii  diskon e b...       ilmaharani\n",
      "1335  brt koridor iii siang ini   ada ibu ibu menyar...    khaerunnisaQM\n",
      "1336            belinyaa dimaanaa opp yg dapet diskon          instaeng9\n",
      "1337  road to fantastic 11  rayainnya   beli 3 produ...       VIPPlazaID\n",
      "1338     udah sg nya ga usah  belinya ntar feb   mar...          SJ4th84\n",
      "1339   wekawekaweka  diskon laahh 130 olih 3  namba ...   LindaWintiasih\n",
      "1340    bantu jawab  kmrn aku beli di carrefour lg d...      intanemaBlb\n",
      "1341  besooooook  jangan lupa  jam 6 sampe jam 8 pag...     fanifinafoni\n",
      "1342   hai ka  apakah ada kompensasi jika internet m...          hanitya\n",
      "1343  hanya hari ini  shopee promo 11 11 big sale  1...   katalogpromosi\n",
      "\n",
      "[1344 rows x 2 columns]\n"
     ]
    }
   ],
   "source": [
    "only_words_datas = filter_non_words(raw_data)\n",
    "\n",
    "print(only_words_datas)"
   ]
  },
  {
   "cell_type": "code",
   "execution_count": 14,
   "metadata": {},
   "outputs": [
    {
     "name": "stdout",
     "output_type": "stream",
     "text": [
      "5517\n",
      "                 0\n",
      "0               ya\n",
      "1            anjir\n",
      "2              cpt\n",
      "3              bgt\n",
      "4             abis\n",
      "5           barang\n",
      "6          manusia\n",
      "7           diskon\n",
      "8           lazada\n",
      "9               11\n",
      "10            2019\n",
      "11        terbesar\n",
      "12              24\n",
      "13             jam\n",
      "14          selama\n",
      "15            kalo\n",
      "16            liat\n",
      "17           promo\n",
      "18              70\n",
      "19               %\n",
      "20              30\n",
      "21           dalem\n",
      "22            hati\n",
      "23        langsung\n",
      "24          bilang\n",
      "25             ini\n",
      "26            jadi\n",
      "27          gratis\n",
      "28            dong\n",
      "29             itu\n",
      "...            ...\n",
      "5487      nunjukin\n",
      "5488          malu\n",
      "5489       sekolah\n",
      "5490      belinyaa\n",
      "5491      dimaanaa\n",
      "5492           opp\n",
      "5493          road\n",
      "5494     rayainnya\n",
      "5495     terpotong\n",
      "5496        proses\n",
      "5497            sg\n",
      "5498           feb\n",
      "5499  wekawekaweka\n",
      "5500         laahh\n",
      "5501           130\n",
      "5502          olih\n",
      "5503         namba\n",
      "5504          memb\n",
      "5505      nganyang\n",
      "5506           24k\n",
      "5507    besooooook\n",
      "5508        banded\n",
      "5509     doorprize\n",
      "5510       numplek\n",
      "5511     dilewatin\n",
      "5512         surya\n",
      "5513    kehilangan\n",
      "5514           hak\n",
      "5515       terjadi\n",
      "5516      gangguan\n",
      "\n",
      "[5517 rows x 1 columns]\n"
     ]
    }
   ],
   "source": [
    "word_list_datas = words_list_array(only_words_datas)\n",
    "save_as_csv(\"text_data/wordlist.csv\",word_list_datas)\n",
    "\n",
    "print(len(word_list_datas))\n",
    "print(word_list_datas)"
   ]
  },
  {
   "cell_type": "code",
   "execution_count": 15,
   "metadata": {},
   "outputs": [
    {
     "name": "stdout",
     "output_type": "stream",
     "text": [
      "                                                     0                1\n",
      "0     ya anjir cepat sekali ya habis barang manusia...         SOHEEDCH\n",
      "1             lazada 11 11 2019 diskon terbesar 24 jam        Vallno_07\n",
      "2     selama kalau lihat promo diskon 70 % 30 % dal...         bayu_joo\n",
      "3     apa bedanya matahari sama bulan matahari ada ...       Hanifati_f\n",
      "4     bagaimana cara tukar mileage diskon 70 % garu...           Nug_QA\n",
      "5     iya benar ketawa kalau makan cantik kena disk...         primetam\n",
      "6          f*** gmarket kenapa diskon nya sekarang sih       singularyv\n",
      "7     sejarah asia tenggara karya m c ricklefs rupi...   KomunitasBambu\n",
      "8     transmart kuburaya diskon kapan lagi rupiah 5...      kalbarinfo_\n",
      "9                      nah diskon 50 % lho yuk diserbu   AmaAbiyyunShoh\n",
      "10    rika sudah inden mobil esemka kalau hendak be...     Dianhandoko6\n",
      "11    sebenarnya bahagia itu sederhana beli ini bel...        anggieppu\n",
      "12    yuk siapa lagi yang mau order deodoran deodor...  indri_indriyuni\n",
      "13       iya bu ambil saja yang kuning sih diskon 50 %         favechan\n",
      "14    pesta harga akhir tahun di giias medan auto s...      IcanIndopro\n",
      "15    astaga kak aul eh tapi itu make over lagi dis...      tyoungjaems\n",
      "16    jadi misal harga 100rb diskon 70 % 30 % cara ...       gardagagar\n",
      "17    pesta harga akhir tahun di giias medan auto s...      IcanIndopro\n",
      "18    rizka tunggu di hotel ya bilang open include ...       Rizkaulia3\n",
      "19    mau beli season greetings tia per hari ini ad...        ChocoBee_\n",
      "20    cgv cinemas kini hadir di icon mall dapat dis...         GoersApp\n",
      "21    fansite seperti sebab itu pun order di diskon...    aracelli_0129\n",
      "22    beli tiket kereta api di diskon 20 % pakai ep...        promo_BRI\n",
      "23    untuk kalian yang bisa jajan di alfamart yuk ...   katalogpromosi\n",
      "24    starbucks promo diskon 50 % untuk beli minuma...   katalogpromosi\n",
      "25    sempurna alat dapur yuk peralatan dapur yang ...       alfacartID\n",
      "26    handmaid s tale belum ketemu admin dan diskon...          Ljwoori\n",
      "27    teman saya titip teman saat di hongkong lagi ...      urpoisonivy\n",
      "28    np 6 tiket diskon 50 % masuk gelanggang samud...     New_preloved\n",
      "29    kalau minta diskon telpon berkali kali saat m...     Kmunadiayuna\n",
      "..                                                 ...              ...\n",
      "170   ketawa begitulah dia tidak perasan kot 17 hb ...   azirahzulkifli\n",
      "171   lewat aplikasi ini bisa reservasi restoran pl...       foodball33\n",
      "172   lewat aplikasi ini bisa reservasi restoran pl...    SayaSukaMasak\n",
      "173   lewat aplikasi ini bisa reservasi restoran pl...         redyvine\n",
      "174   lewat aplikasi ini bisa reservasi restoran pl...     lezatbergizi\n",
      "175   lewat aplikasi ini bisa reservasi restoran pl...            fbrdn\n",
      "176   lewat aplikasi ini bisa reservasi restoran pl...   FineCuisineSmg\n",
      "177   dapat tambahan diskon hingga 10 % khusus bagi...   KartuKreditBCA\n",
      "178                                         diskon kah      ZKDLIN88kai\n",
      "179   cardholders sudah waktu ganti springbed janga...      mandiricard\n",
      "180   harga petir 1 hari lagi nikmati diskon tiket ...            tiket\n",
      "181   buka prapesan mencari bali yang berubah karya...   basabasi_store\n",
      "182                            diskon akhir tahun dong      sighatullah\n",
      "183   ujian apa ini pilih yang sedang diskon 50 per...         boo_tato\n",
      "184                    tidak kok cuma lagi diskon saja        ddeulguom\n",
      "185     shinzui sering diskon di alfa indonesia ketawa       migumiguya\n",
      "186   kampanye 11 11 ini akan berlangsung 10 hari m...        kompascom\n",
      "187   starbucks promo diskon 50 % untuk beli minuma...   katalogpromosi\n",
      "188   hushpuppiesid calm your day with the blue cho...       Park23Bali\n",
      "189   diskon dan bonus goda pembeli smartphone di i...    infoinfokeren\n",
      "190                    tiket pesawat murah diskon klik  TiketPesawatPro\n",
      "191   ilmu dan diskon fungsi beda bib tanya sama em...         _Sai_ful\n",
      "192   tltsn lagi diskon ya de masih banyak tidak mo...     pristiaudiaa\n",
      "193                      diskon 40 % dari harga normal       IkigawaLee\n",
      "194           saya sudah beri ilmu masa beri diskon jg      Husen_Jafar\n",
      "195   kemarin sebelum ke maiyah sempat nonton ini j...       ShadaHanin\n",
      "196   cukup dengan membawa minimal 2 orang pendampi...   ancoltmnimpian\n",
      "197   legging airism enak sangat astaga beli saat l...         deenoora\n",
      "198   2 bioglass 4jt dapat diskon 300rb dapat lagi ...    sellyriantica\n",
      "199                              wah yang benar diskon     fitriindaahp\n",
      "\n",
      "[200 rows x 2 columns]\n"
     ]
    }
   ],
   "source": [
    "raw_words_data = only_words_datas.head(200)\n",
    "\n",
    "formal_datas = formalize_array_sentence(raw_words_data, formal_words_data)\n",
    "save_as_csv(\"integrated_data/normalized.csv\",formal_datas)\n",
    "\n",
    "print(formal_datas)"
   ]
  }
 ],
 "metadata": {
  "kernelspec": {
   "display_name": "Python 3",
   "language": "python",
   "name": "python3"
  },
  "language_info": {
   "codemirror_mode": {
    "name": "ipython",
    "version": 3
   },
   "file_extension": ".py",
   "mimetype": "text/x-python",
   "name": "python",
   "nbconvert_exporter": "python",
   "pygments_lexer": "ipython3",
   "version": "3.6.3"
  }
 },
 "nbformat": 4,
 "nbformat_minor": 2
}
