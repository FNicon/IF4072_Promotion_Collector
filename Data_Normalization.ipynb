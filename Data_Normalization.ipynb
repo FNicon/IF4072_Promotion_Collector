{
 "cells": [
  {
   "cell_type": "markdown",
   "metadata": {},
   "source": [
    "### Read all csv"
   ]
  },
  {
   "cell_type": "code",
   "execution_count": 176,
   "metadata": {
    "scrolled": true
   },
   "outputs": [
    {
     "name": "stdout",
     "output_type": "stream",
     "text": [
      "1345\n",
      "[['Ya anjir cpt bgt ya abis barang manusia diskon:(' 'SOHEEDCH']\n",
      " ['Lazada 11.11.2019 diskon terbesar 24 jam https://t.co/8QjlwZWEz8'\n",
      "  'Vallno_07']\n",
      " [ 'selama kalo liat promo diskon 70% + 30% dalem hati langsung bilang \"ini jadi gratis dong?\"  ITU TANDANYA ANDA MASIH MISKIN'\n",
      "  'bayu_joo']\n",
      " ..., \n",
      " [ 'Besooooook 😍😍😍😍😍😍 Jangan lupa, jam 6 sampe jam 8 pagi aja Murah, diskon promo, hadiah, banded bahkan doorprize numplek jd satu Yakin mau dilewatin ? 😍😍😍😍 Siap siap yaaaa Surya Toserba https://t.co/EOHxk4YpBH'\n",
      "  'fanifinafoni']\n",
      " [ '@TelkomPromo hai ka, apakah ada kompensasi jika internet mati selama seminggu? Mungkin diskon tagihan? Karena kami kehilangan hak kuota kami selama terjadi gangguan internet. Dan semenjak saya berlangganan, setiap bulan selalu ada gangguan. Terima kasih'\n",
      "  'hanitya']\n",
      " [ 'HANYA HARI INI! SHOPEE Promo 11.11 Big Sale! 11.11 Mom &amp; Kids Day – Produk Ibu &amp; Anak Diskon Hingga 90% Off! https://t.co/2LM7abraKT https://t.co/9crE7CrIkO'\n",
      "  'katalogpromosi']]\n"
     ]
    }
   ],
   "source": [
    "import glob\n",
    "import pandas as pd\n",
    "import numpy as np\n",
    "\n",
    "def is_contain(check_data, datas):\n",
    "    i = 0\n",
    "    while ((i < len(datas)) and (check_data[0] != datas[i][0])) :\n",
    "        i = i + 1\n",
    "    return (i < len(datas))\n",
    "\n",
    "def filter_same_data(check_datas, datas):\n",
    "    new_array = datas\n",
    "    for i in range(len(check_datas)) :\n",
    "        if (not(is_contain(check_datas[i], new_array))):\n",
    "            if (len(new_array) == 0):\n",
    "                new_array = [check_datas[i]]\n",
    "            else :\n",
    "                new_array = np.append(new_array,[check_datas[i]], axis = 0)\n",
    "    new_array = pd.DataFrame(data = new_array).values\n",
    "    return (new_array)\n",
    "\n",
    "def read_all_csv():\n",
    "    result = []\n",
    "    attribute_names = [\"\",\"tweet\",\"user\"]\n",
    "    csvs_path = glob.glob('raw_data/*.csv')\n",
    "    for path in csvs_path :\n",
    "        data_input = pd.read_csv(path, header=0, usecols=range(1,3))\n",
    "        data_frame_input = pd.DataFrame(data = data_input).values\n",
    "        result = filter_same_data(data_frame_input, result)\n",
    "    data_frame_result = pd.DataFrame(data = result)\n",
    "    return (data_frame_result.values)\n",
    "\n",
    "raw_data = read_all_csv()\n",
    "print(len(raw_data))\n",
    "print(raw_data)"
   ]
  },
  {
   "cell_type": "code",
   "execution_count": null,
   "metadata": {
    "collapsed": true
   },
   "outputs": [],
   "source": []
  },
  {
   "cell_type": "code",
   "execution_count": null,
   "metadata": {
    "collapsed": true
   },
   "outputs": [],
   "source": []
  }
 ],
 "metadata": {
  "kernelspec": {
   "display_name": "Python 3",
   "language": "python",
   "name": "python3"
  },
  "language_info": {
   "codemirror_mode": {
    "name": "ipython",
    "version": 3
   },
   "file_extension": ".py",
   "mimetype": "text/x-python",
   "name": "python",
   "nbconvert_exporter": "python",
   "pygments_lexer": "ipython3",
   "version": "3.6.3"
  }
 },
 "nbformat": 4,
 "nbformat_minor": 2
}
